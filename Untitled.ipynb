{
 "cells": [
  {
   "cell_type": "code",
   "execution_count": 11,
   "metadata": {},
   "outputs": [],
   "source": [
    "import scipy.stats as stats\n",
    "import numpy as np\n",
    "import matplotlib.pyplot as plt"
   ]
  },
  {
   "cell_type": "code",
   "execution_count": 9,
   "metadata": {},
   "outputs": [
    {
     "data": {
      "text/plain": [
       "array([10,  8,  4,  7,  2,  3,  2,  4, 10,  6])"
      ]
     },
     "execution_count": 9,
     "metadata": {},
     "output_type": "execute_result"
    }
   ],
   "source": [
    "sample1 = np.random.randint(1, 11, size=10)\n",
    "sample1"
   ]
  },
  {
   "cell_type": "code",
   "execution_count": 3,
   "metadata": {},
   "outputs": [
    {
     "data": {
      "text/plain": [
       "array([ 5,  2,  5, 10, 10,  9,  6,  9,  3,  9,  9,  2,  2,  8,  3,  3,  4,\n",
       "        6,  8,  5,  5,  7,  9, 10,  9, 10,  5,  3,  7,  9,  5,  3,  4,  6,\n",
       "        3,  5,  9,  5,  8,  6,  4,  6,  8,  2, 10,  8,  9,  3,  2,  1,  8,\n",
       "        3,  9,  5,  1,  6,  8,  1,  8,  8, 10,  6,  7,  1,  3,  1,  5,  6,\n",
       "        1,  3,  6, 10,  1,  1,  4,  6,  1, 10,  8,  9,  9,  7,  3,  9,  1,\n",
       "        1,  2,  6,  6,  6,  7,  4,  6,  6,  4, 10,  4,  2,  9,  3])"
      ]
     },
     "execution_count": 3,
     "metadata": {},
     "output_type": "execute_result"
    }
   ],
   "source": [
    "sample2 = np.random.randint(1, 11, size=100)\n",
    "sample2"
   ]
  },
  {
   "cell_type": "code",
   "execution_count": 6,
   "metadata": {
    "scrolled": true
   },
   "outputs": [
    {
     "data": {
      "text/plain": [
       "array([10,  8,  9,  8,  2,  2,  4,  6,  4,  5,  9,  9,  3,  1,  1,  5,  4,\n",
       "        7,  2,  4,  2,  7,  7,  3,  8,  2, 10,  1,  6,  9,  8,  4,  4,  4,\n",
       "        3,  5,  4,  6,  3,  1,  9,  1, 10,  7, 10,  5,  2,  2,  3,  6,  9,\n",
       "        8, 10,  8,  4,  6, 10,  5,  8,  9,  9,  6,  8,  1,  7, 10,  1,  8,\n",
       "        7,  4,  3,  4,  1,  5,  7,  2,  3,  2,  8,  8,  6,  2,  9,  7,  2,\n",
       "        7,  3,  5,  6,  6, 10,  4,  2,  9,  3,  2,  9,  7,  2,  5,  8,  3,\n",
       "        8,  7,  1,  4,  7,  5,  7,  8,  6,  2,  8,  7,  7,  1,  2,  6,  6,\n",
       "        3,  6,  8,  2,  4,  4,  2,  2,  3, 10,  2,  4,  1,  3,  8,  2,  7,\n",
       "        9,  6,  9,  1,  7,  6,  5,  3,  7,  1, 10,  5,  6,  7,  5,  2,  3,\n",
       "        5,  6,  1,  7,  5,  2,  2,  5,  3,  2,  6, 10,  6,  9,  4,  2, 10,\n",
       "        8,  5,  5,  2,  6,  2,  6,  4,  7, 10,  6,  4,  9,  2,  1,  9,  1,\n",
       "        9,  7,  4, 10,  6,  6,  2, 10,  3,  2,  6,  8,  2,  8, 10,  9, 10,\n",
       "        6,  3,  3,  7,  7,  5,  7,  9, 10,  8,  7,  6,  8,  2,  6, 10,  9,\n",
       "        6,  3,  9, 10,  6,  2,  8,  5,  2,  2,  2,  3,  7,  3,  9,  8,  8,\n",
       "        1,  2,  9,  3,  5,  5,  7,  9, 10,  5,  4,  1,  8,  5,  8,  6,  5,\n",
       "        8,  6, 10,  5,  4,  2,  4,  6,  9,  3,  3,  9,  9,  5, 10,  1,  1,\n",
       "        8,  6,  9,  8,  2,  3,  7, 10,  2,  3,  3, 10,  8,  9,  5, 10,  8,\n",
       "        4,  6,  3, 10,  6,  5,  9, 10,  9,  2,  5,  1,  6,  1,  9, 10,  2,\n",
       "        3, 10,  3,  3,  3,  1,  2,  8,  8, 10,  3,  4,  4, 10,  5,  6,  3,\n",
       "        8,  1,  1,  8,  1,  7,  7,  6,  8,  1,  5,  6,  3,  1, 10,  5,  6,\n",
       "        2,  9,  9,  9,  7,  3,  7,  3,  3,  3,  3,  5,  8,  3,  5,  3,  3,\n",
       "        5,  5,  3,  2,  7,  2,  8,  1,  1,  4,  6,  5, 10,  7,  2,  8,  1,\n",
       "        3,  9, 10,  6,  6, 10,  2,  2,  1,  4,  1,  4,  5,  9,  5,  8,  5,\n",
       "        4,  3, 10,  8,  5,  9,  8,  6,  1,  4,  9,  8,  8,  4,  9,  9,  2,\n",
       "       10, 10,  3,  7,  9,  2,  8,  1,  8,  1, 10,  7,  9,  5,  5,  2,  7,\n",
       "        6,  7,  8,  2,  5,  7,  3,  5,  7,  2,  6,  3,  8,  4,  4,  8,  4,\n",
       "        3,  6,  8,  1,  6,  6,  7,  1,  4,  4,  3, 10,  2,  6,  8,  5,  3,\n",
       "        3,  7,  4,  5,  1,  5,  3,  1,  7,  5,  5,  6,  3,  6,  9,  4,  1,\n",
       "        3,  8,  2,  7,  3,  2,  6,  3,  3,  7,  6,  9,  9,  1,  2,  8,  9,\n",
       "        8,  6,  6,  9, 10,  8,  1,  8,  5,  4,  3,  7,  5,  2, 10,  7,  9,\n",
       "        5,  3,  5,  2,  4,  9,  4,  1,  8,  1,  7,  8,  6, 10,  9,  4,  6,\n",
       "        9,  9,  8,  1,  5,  4,  6,  3,  7,  4,  4,  7,  7,  8,  8,  5,  5,\n",
       "        4,  8,  9,  8,  3,  1,  7,  8,  1,  8,  3,  5,  8,  1, 10,  6,  6,\n",
       "        2,  9,  9,  5, 10,  6,  8,  1,  9,  1,  2,  1,  7,  9,  5,  4,  2,\n",
       "       10,  3,  5,  6,  8,  1,  9,  4,  3,  3,  5,  6,  1,  4,  6,  2,  9,\n",
       "        2,  7,  6,  1,  8,  4,  5,  4,  4,  3,  6,  4,  7, 10,  5,  4,  7,\n",
       "       10, 10,  8,  1, 10,  9,  5, 10,  8,  4,  8,  1,  2,  7,  5,  8,  1,\n",
       "        3,  5,  5,  1,  4,  7,  6,  5,  3,  3,  2,  1,  4,  8,  5,  9,  5,\n",
       "        8,  5,  1,  5,  1,  8,  6,  2,  9,  4,  3,  1,  6,  2,  8,  4,  8,\n",
       "        3,  9,  3,  4, 10,  3,  2,  9,  8,  7,  3,  5,  8,  3,  8,  2,  9,\n",
       "        7,  7,  6,  7,  9,  2,  4,  8,  7,  1,  9,  1,  4,  3,  9,  6,  6,\n",
       "        2,  7,  9,  8,  6, 10,  8,  6,  7,  3,  6,  3, 10,  9,  1,  4,  9,\n",
       "        8,  2,  5,  2,  8,  1,  9,  6,  7,  7,  3,  1,  3,  7,  6,  6,  2,\n",
       "        8,  9,  9,  1,  5,  8,  9,  6,  5,  3, 10,  9,  8,  5,  4,  7,  1,\n",
       "        5,  7,  4,  2,  7, 10,  6, 10,  7,  8,  6,  1,  1,  9,  7,  1,  3,\n",
       "        9,  6,  3,  3,  7,  9,  4,  3,  9,  7,  7,  3,  3,  5, 10,  6,  7,\n",
       "        3,  4,  6,  1,  2,  7,  3,  7, 10,  5, 10,  9,  9, 10,  2,  8,  6,\n",
       "        9,  4,  2,  9,  6,  9,  7,  8,  6,  6,  2,  1,  7, 10,  8,  3,  3,\n",
       "        6,  5,  2,  6,  9, 10,  7,  8,  6, 10,  8,  9,  2,  5,  8,  1,  2,\n",
       "        9,  5,  5,  1,  8,  4,  1,  2,  3,  1,  6,  9,  3,  8,  6,  1,  3,\n",
       "        8, 10,  1,  5,  5,  2,  6,  7, 10,  5,  8, 10,  7,  5,  6,  8,  5,\n",
       "        1,  9,  9,  3,  8,  7,  1,  4, 10,  2,  9,  4,  6,  5,  6,  8,  6,\n",
       "        5,  5,  7,  9,  1,  3,  2,  4,  1,  8,  6,  4,  9, 10,  5,  8,  9,\n",
       "        8,  2,  6, 10,  6,  8,  3,  8,  3,  6,  1,  6,  2,  4,  8,  5,  6,\n",
       "        9,  4,  8,  9,  2,  4,  2,  4,  5,  3,  2,  5,  7,  9,  3,  4, 10,\n",
       "        9, 10,  8,  6,  2,  2,  1,  1,  1,  7,  5,  2,  5,  6,  8,  8, 10,\n",
       "        4,  5,  4,  3,  7,  6,  7,  7,  8,  5,  7,  1,  9,  5,  9,  1,  7,\n",
       "        8,  5,  3,  4,  4,  2,  3,  4,  4,  2,  2, 10,  8,  4,  4,  5, 10,\n",
       "        9,  3,  9,  4,  5,  8,  8, 10,  6,  1,  1,  6,  2,  5])"
      ]
     },
     "execution_count": 6,
     "metadata": {},
     "output_type": "execute_result"
    }
   ],
   "source": [
    "sample3 = np.random.randint(1, 11, size=1000)\n",
    "sample3"
   ]
  },
  {
   "cell_type": "code",
   "execution_count": 10,
   "metadata": {},
   "outputs": [
    {
     "data": {
      "text/plain": [
       "DescribeResult(nobs=10, minmax=(2, 10), mean=5.6, variance=9.377777777777776, skewness=0.27700270322628756, kurtosis=-1.3415242245232588)"
      ]
     },
     "execution_count": 10,
     "metadata": {},
     "output_type": "execute_result"
    }
   ],
   "source": [
    "stats.describe(sample1)"
   ]
  },
  {
   "cell_type": "code",
   "execution_count": 13,
   "metadata": {},
   "outputs": [
    {
     "data": {
      "text/plain": [
       "(array([2., 1., 2., 0., 0., 1., 1., 1., 0., 2.]),\n",
       " array([ 2. ,  2.8,  3.6,  4.4,  5.2,  6. ,  6.8,  7.6,  8.4,  9.2, 10. ]),\n",
       " <a list of 10 Patch objects>)"
      ]
     },
     "execution_count": 13,
     "metadata": {},
     "output_type": "execute_result"
    },
    {
     "data": {
      "image/png": "[encoded data removed]",
      "text/plain": [
       "<Figure size 432x288 with 1 Axes>"
      ]
     },
     "metadata": {
      "needs_background": "light"
     },
     "output_type": "display_data"
    }
   ],
   "source": [
    "plt.hist(sample1)"
   ]
  },
  {
   "cell_type": "code",
   "execution_count": null,
   "metadata": {},
   "outputs": [],
   "source": []
  }
 ],
 "metadata": {
  "kernelspec": {
   "display_name": "Python 3",
   "language": "python",
   "name": "python3"
  },
  "language_info": {
   "codemirror_mode": {
    "name": "ipython",
    "version": 3
   },
   "file_extension": ".py",
   "mimetype": "text/x-python",
   "name": "python",
   "nbconvert_exporter": "python",
   "pygments_lexer": "ipython3",
   "version": "3.7.6"
  }
 },
 "nbformat": 4,
 "nbformat_minor": 4
}
